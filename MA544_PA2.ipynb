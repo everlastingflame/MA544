{
 "cells": [
  {
   "cell_type": "markdown",
   "id": "df1f06c8",
   "metadata": {},
   "source": [
    "## MA 544 Programming Assignment 2\n",
    "---\n",
    "Bring your questions on the discussion board for Module 3 for helpful hints on these question."
   ]
  },
  {
   "cell_type": "code",
   "execution_count": 3,
   "id": "e0c5ac37",
   "metadata": {},
   "outputs": [],
   "source": [
    "import numpy as np"
   ]
  },
  {
   "cell_type": "markdown",
   "id": "4aaf6971",
   "metadata": {},
   "source": [
    "### Question 1: Iterative Methods for Linear Systems\n",
    "\n",
    "Consider the following linear system\n",
    "\n",
    "$$\n",
    "\\begin{pmatrix}\n",
    "10 & -1  & 2  & 0  \\\\\n",
    "-1 & 11&-1 & 3 \\\\\n",
    "2 & -1  & 10  & -1 \\\\\n",
    "0 & 3 & -1 & 8  \n",
    "\\end{pmatrix}\n",
    "\\begin{pmatrix}\n",
    "x_1\\\\x_2\\\\x_3\\\\x_4 \n",
    "\\end{pmatrix}\n",
    "=\n",
    "\\begin{pmatrix}\n",
    "6\\\\25\\\\-11\\\\15\n",
    "\\end{pmatrix}\n",
    "$$"
   ]
  },
  {
   "cell_type": "markdown",
   "id": "931baf44",
   "metadata": {},
   "source": [
    "**Jacobi Method**\n",
    "\n",
    ">  Initialize the iterative solution vector $x^{(0)}$ randomly, or with the zero vector,\n",
    "\n",
    ">  for k=0:maxIteration, update every element until convergece\n",
    "\n",
    ">> for i=1:n\n",
    "$$\n",
    "x^{(k+1)}_i  = \\frac{1}{a_{ii}} \\left(b_i -\\sum_{j\\ne i}a_{ij}x^{(k)}_j\\right).\n",
    "$$"
   ]
  },
  {
   "cell_type": "code",
   "execution_count": 15,
   "id": "41b56556",
   "metadata": {},
   "outputs": [],
   "source": [
    "# You can modify this code to answer the following\n",
    "'''\n",
    "Jacobi's iteration method for solving the system of equations Ax=b.\n",
    "p0 is the initialization for the iteration.\n",
    "'''\n",
    "def jacobi(A, b, p0, tol, maxIter=100):\n",
    "    n=len(A)\n",
    "    p = p0\n",
    "\n",
    "    for k in range(maxIter):\n",
    "        p_old = p.copy() # In python assignment is not the same as copy\n",
    "        \n",
    "        # Update every component of iterant p\n",
    "        for i in range(n):\n",
    "            sumi = b[i];\n",
    "            for j in range(n):\n",
    "                if i==j: # Diagonal elements are not included in Jacobi\n",
    "                    continue;\n",
    "                sumi = sumi - A[i,j] * p_old[j]\n",
    "            p[i] = sumi/A[i,i]\n",
    "                \n",
    "        rel_error = np.linalg.norm(p-p_old)/n # Actually 'n' should be replace by norm of p\n",
    "        # print(\"Relative error in iteration\", k+1,\":\",rel_error)\n",
    "        if rel_error<tol:\n",
    "            print(\"TOLERANCE MET BEFORE MAX-ITERATION\")\n",
    "            break\n",
    "    return p;"
   ]
  },
  {
   "cell_type": "code",
   "execution_count": 16,
   "id": "08348379",
   "metadata": {},
   "outputs": [],
   "source": [
    "# Example System\n",
    "A1 = np.array([[10, -1, 2, 0],\n",
    "              [-1, 11, -1, 3],\n",
    "              [2, -1, 10, -1],\n",
    "              [0, 3, -1, 8]],dtype=float)\n",
    "b = np.array([6, 25, -11, 15],dtype=float)"
   ]
  },
  {
   "cell_type": "code",
   "execution_count": 27,
   "id": "b3e2fbc9",
   "metadata": {},
   "outputs": [
    {
     "name": "stdout",
     "output_type": "stream",
     "text": [
      "TOLERANCE MET BEFORE MAX-ITERATION\n",
      "The solution is:  [ 1.00000003  1.99999996 -0.99999997  0.99999995]\n"
     ]
    }
   ],
   "source": [
    "# Solved by using Jacobi Method\n",
    "x = jacobi(A1,b, np.array([0,0,0,0],dtype=float),0.0000001, 100)\n",
    "print(\"The solution is: \",x)"
   ]
  },
  {
   "cell_type": "markdown",
   "id": "52394de2",
   "metadata": {},
   "source": [
    "(A) **Modify** the code for Jacobi Method to implement the Gauss-Siedel Iteration in Python.  Solve the above system by using this method. Exact answer is (1,2,-1,1). Stopping criteria could be a relative error $\\delta < 0.000001$."
   ]
  },
  {
   "cell_type": "code",
   "execution_count": 68,
   "id": "fe66ac0c",
   "metadata": {},
   "outputs": [
    {
     "name": "stdout",
     "output_type": "stream",
     "text": [
      "TOLERANCE MET BEFORE MAX-ITERATION\n",
      "The solution is:  [ 1.  2. -1.  1.]\n"
     ]
    }
   ],
   "source": [
    "# Your Code here\n",
    "import numpy as np\n",
    "def gauss_siedel(A, b, p0, tol, maxIter=100):\n",
    "    n=len(A)\n",
    "    p = p0\n",
    "\n",
    "    for k in range(maxIter):\n",
    "        p_old = p.copy() \n",
    "        \n",
    "        # Update every component of iterant p\n",
    "        for i in range(n):\n",
    "            sumi = b[i];\n",
    "            for j in range(i): \n",
    "                sumi -= A[i,j] * p[j]\n",
    "                \n",
    "            for j in range(i+1, n):  \n",
    "                sumi -= A[i,j] * p_old[j]\n",
    "                \n",
    "            p[i] = sumi/A[i,i]\n",
    "                \n",
    "        rel_error = np.linalg.norm(p-p_old)/n # Actually 'n' should be replace by norm of p\n",
    "        # print(\"Relative error in iteration\", k+1,\":\",rel_error)\n",
    "        if rel_error<tol:\n",
    "            print(\"TOLERANCE MET BEFORE MAX-ITERATION\")\n",
    "            break\n",
    "    return p;\n",
    "\n",
    "A1 = np.array([[10, -1, 2, 0],\n",
    "              [-1, 11, -1, 3],\n",
    "              [2, -1, 10, -1],\n",
    "              [0, 3, -1, 8]],dtype=float)\n",
    "b = np.array([6, 25, -11, 15],dtype=float)\n",
    "\n",
    "x = gauss_siedel(A1,b, np.array([0,0,0,0],dtype=float),0.0000001, 100)\n",
    "print(\"The solution is: \",x)"
   ]
  },
  {
   "cell_type": "markdown",
   "id": "3989e93d",
   "metadata": {},
   "source": [
    "(B) Successive overrelaxation (SOR) is another iterative method for solving linear systems. It picks up the next iteration from a weighted sum of the current iteration and the next iteration by Gauss-seidel. **Modify** the code for Jacobi Method to implement the  SOR method in Python and solve the above system again with $\\omega=1.5$. Display the solution of the above system by this method."
   ]
  },
  {
   "cell_type": "code",
   "execution_count": 66,
   "id": "c141e35c",
   "metadata": {},
   "outputs": [
    {
     "name": "stdout",
     "output_type": "stream",
     "text": [
      "TOLERANCE MET BEFORE MAX-ITERATION\n",
      "The solution is:  [ 0.99999998  1.99999996 -0.99999997  0.99999999]\n"
     ]
    }
   ],
   "source": [
    "import numpy as np\n",
    "\n",
    "def jacobi_relax(A, b, p0, tol, maxIter, w):\n",
    "    n=len(A)\n",
    "    p = p0\n",
    "    for k in range(maxIter):\n",
    "        p_old = p.copy() \n",
    "        \n",
    "        # Update every component of iterant p\n",
    "        for i in range(n):\n",
    "            sumi = b[i];\n",
    "            for j in range(n): \n",
    "                if i != j:\n",
    "                    sumi -= A[i,j] * p_old[j]\n",
    "                \n",
    "            p[i] = (1-w) * p_old[i] + (w/A[i,i]) * sumi\n",
    "\n",
    "        p_old = p.copy()\n",
    "        rel_error = np.linalg.norm(p-p_old)/np.linalg.norm(p)\n",
    "        # print(\"Relative error in iteration\", k+1,\":\",rel_error)\n",
    "        if rel_error < tol:\n",
    "            print(\"TOLERANCE MET BEFORE MAX-ITERATION\")\n",
    "            break\n",
    "    return p;\n",
    "\n",
    "A1 = np.array([[10, -1, 2, 0],\n",
    "              [-1, 11, -1, 3],\n",
    "              [2, -1, 10, -1],\n",
    "              [0, 3, -1, 8]], dtype=float)\n",
    "b = np.array([6, 25, -11, 15], dtype=float)\n",
    "w = 1.5\n",
    "x = SOR(A1, b, np.array([0,0,0,0], dtype=float), 0.0000001, 100, w)\n",
    "print(\"The solution is: \", x)\n"
   ]
  },
  {
   "cell_type": "markdown",
   "id": "381af1c7",
   "metadata": {},
   "source": [
    "### Question 2: Gaussian Elimination with Pivoting"
   ]
  },
  {
   "cell_type": "code",
   "execution_count": 9,
   "id": "0bcbc0ff",
   "metadata": {},
   "outputs": [],
   "source": [
    "## Gaussian Elimination: Scaled Row Pivoting\n",
    "## This function is based on the pseudo-code on page-148 in the Text by Kincaid and Cheney\n",
    "def GE_srpp(X, verbose=False):\n",
    "    '''\n",
    "    This function returns the P'LU factorization of a square matrix A\n",
    "    by scaled row partial pivoting. \n",
    "    In place of returning L and U, elements of modified A are used to hold values of L and U.\n",
    "    '''\n",
    "    A = np.copy(X)\n",
    "    m,n = A.shape\n",
    "    swap=0;\n",
    "    \n",
    "    # The initial ordering of rows\n",
    "    p = list(range(m))\n",
    "    if verbose:\n",
    "        print(\"permutation vector initialized to: \",p)\n",
    "    \n",
    "    # Scaling vector: absolute maximum elements of each row\n",
    "    s = np.max(np.abs(A), axis=1) \n",
    "    \n",
    "    # Start the k-1 passes of Guassian Elimination on A\n",
    "    for k in range(m-1):              \n",
    "        if verbose:\n",
    "            print(\"Scaling Vector: \",s)\n",
    "        # Find the pivot element and interchange the rows\n",
    "        pivot_index = k + np.argmax(np.abs(A[p[k:], k])/s[p[k:]])        \n",
    "        \n",
    "        # Interchange elements in the permutation vector if needed\n",
    "        if pivot_index !=k:\n",
    "            temp = p[k]\n",
    "            p[k]=p[pivot_index]\n",
    "            p[pivot_index] = temp\n",
    "            swap+=1;\n",
    "                        \n",
    "        if verbose:\n",
    "            print(\"\\nPivot Element: {0:.4f} \\n\".format(A[p[k],k]))\n",
    "        if np.abs(A[p[k],k]) < 10**(-20):\n",
    "             sys.exit(\"ERROR!! Provided matrix is singular or there is a zero pivot.\")        \n",
    "        # Check the new order of rows\n",
    "        if verbose:\n",
    "            print(\"permutation vector: \",p)\n",
    "        # For the k-th pivot row Perform the Gaussian elimination on the following rows\n",
    "        for i in range(k+1, m):\n",
    "            # Find the multiplier\n",
    "            z = A[p[i],k]/A[p[k],k]            \n",
    "            #Save the multiplier z in A itself. You can save this in L also\n",
    "            A[p[i],k] = z          \n",
    "            #Elimination operation: Changes all elements in a row simultaneously\n",
    "            A[p[i],k+1:] = A[p[i],k+1:] - z*A[p[k],k+1:]\n",
    "            \n",
    "        if verbose:\n",
    "            print(\"\\n After PASS {}=========: \\n\".format(k+1), A)\n",
    "    return A, p, swap"
   ]
  },
  {
   "cell_type": "markdown",
   "id": "dbbceeb7",
   "metadata": {},
   "source": [
    "**LU Decomposition** Example\n",
    "\n",
    "The above code could be used or modified for a umber of purposes. Here is how it coudl be sed for $PA=LU$ decomposition."
   ]
  },
  {
   "cell_type": "code",
   "execution_count": 19,
   "id": "b3e7ff50",
   "metadata": {},
   "outputs": [],
   "source": [
    "A2 = np.array([[5, 4, 7, 6, 9], \n",
    "              [7, 8, 9, 9, 8], \n",
    "              [2, 3, 5, 9, 8], \n",
    "              [3, 1, 7, 5, 6], \n",
    "              [9, 1, 3, 7, 3]], dtype=float)"
   ]
  },
  {
   "cell_type": "code",
   "execution_count": 24,
   "id": "20b91438",
   "metadata": {},
   "outputs": [
    {
     "name": "stdout",
     "output_type": "stream",
     "text": [
      "Modified A after Gaussian elimination:\n",
      " [[ 0.55555556  0.47692308  0.4        -0.09795479  3.2007535 ]\n",
      " [ 0.77777778  7.22222222  6.66666667  3.55555556  5.66666667]\n",
      " [ 0.22222222  0.38461538  0.32857143  5.30857143  3.68285714]\n",
      " [ 0.33333333  0.09230769  5.38461538  2.33846154  4.47692308]\n",
      " [ 9.          1.          3.          7.          3.        ]]\n",
      "\n",
      " Upper triangular, U:\n",
      "  [[9.         1.         3.         7.         3.        ]\n",
      " [0.         7.22222222 6.66666667 3.55555556 5.66666667]\n",
      " [0.         0.         5.38461538 2.33846154 4.47692308]\n",
      " [0.         0.         0.         5.30857143 3.68285714]\n",
      " [0.         0.         0.         0.         3.2007535 ]]\n",
      "\n",
      " Lower triangular, L:\n",
      " [[ 1.          0.          0.          0.          0.        ]\n",
      " [ 0.77777778  1.          0.          0.          0.        ]\n",
      " [ 0.33333333  0.09230769  1.          0.          0.        ]\n",
      " [ 0.22222222  0.38461538  0.32857143  1.          0.        ]\n",
      " [ 0.55555556  0.47692308  0.4        -0.09795479  1.        ]]\n",
      "\n",
      " The Permutation Matrix, P:\n",
      " [[0. 0. 0. 0. 1.]\n",
      " [0. 1. 0. 0. 0.]\n",
      " [0. 0. 0. 1. 0.]\n",
      " [0. 0. 1. 0. 0.]\n",
      " [1. 0. 0. 0. 0.]]\n",
      "Sanity check: Norm of LU-PA (must be close to zero)= 0.0\n"
     ]
    }
   ],
   "source": [
    "newA,p,swaps = GE_srpp(A2)\n",
    "print(\"Modified A after Gaussian elimination:\\n\",newA)\n",
    "U=np.triu(newA[p,:])\n",
    "L=np.tril(newA[p,:], -1)+np.eye(5)\n",
    "P=np.eye(5)[p,:]\n",
    "print(\"\\n Upper triangular, U:\\n \", U)\n",
    "print(\"\\n Lower triangular, L:\\n\", L)\n",
    "print(\"\\n The Permutation Matrix, P:\\n\",P)\n",
    "print(\"Sanity check: Norm of LU-PA (must be close to zero)=\",np.linalg.norm(P@A2-L@U))"
   ]
  },
  {
   "cell_type": "markdown",
   "id": "510fee1f",
   "metadata": {},
   "source": [
    "(A) Modify the code for Gaussian elimination to write a function that solves a linear system $A\\mathbf{x} =\\mathbf{b}$.  Test this on the following system. Display the verbose output and the solution.\n",
    "$$\n",
    "\\begin{matrix}\n",
    "3x-5y+z &=0\\\\\n",
    "x+2y+3z &=1\\\\\n",
    "-2x+3y-4z &=3\n",
    "\\end{matrix}\n",
    "$$"
   ]
  },
  {
   "cell_type": "code",
   "execution_count": null,
   "id": "f795b023",
   "metadata": {},
   "outputs": [],
   "source": [
    "# Your work starts here"
   ]
  },
  {
   "cell_type": "markdown",
   "id": "534466f4",
   "metadata": {},
   "source": [
    "(B) Modify this code to find the determinant of any square matrix A. Note that \n",
    "$$PA = LU \\Rightarrow \\text{det} A  = \\pm \\text{det} U .$$\n",
    "The sign depends of the number of row-swaps in the elimination process.  Use this code to find the determinant of any $10 \\times 10$ matrix that you randomly generate. Compare your result with the built-in NumPy method."
   ]
  },
  {
   "cell_type": "code",
   "execution_count": null,
   "id": "3ef159b2",
   "metadata": {},
   "outputs": [],
   "source": [
    "# Your work starts here"
   ]
  },
  {
   "cell_type": "markdown",
   "id": "319ac647",
   "metadata": {},
   "source": [
    "(C) Modify your system-solver to find the inverse of a square matrix. Use this code to display the inverse of the matrix\n",
    "$$ A =\n",
    "\\begin{pmatrix}\n",
    "3 & -5 & 1\\\\1 & 2 & 3\\\\ -2 & 3 & -4\n",
    "\\end{pmatrix}.\n",
    "$$"
   ]
  },
  {
   "cell_type": "code",
   "execution_count": null,
   "id": "b0a7a775",
   "metadata": {},
   "outputs": [],
   "source": [
    "# Your work starts here"
   ]
  },
  {
   "cell_type": "markdown",
   "id": "fc22bb79",
   "metadata": {},
   "source": [
    "### Questions 3: Gradient Descent\n",
    "Modify the code provided for gradient descent to find the minimum for a function in two variables. Show the output for the function \n",
    "\n",
    "$$\n",
    "f(x_1, x_2) = x_1^2+x_2^2-2x_1+4x_2+8\n",
    "$$"
   ]
  },
  {
   "cell_type": "code",
   "execution_count": null,
   "id": "0e7f5778",
   "metadata": {},
   "outputs": [],
   "source": [
    "# Your work starts here"
   ]
  }
 ],
 "metadata": {
  "kernelspec": {
   "display_name": "Python 3 (ipykernel)",
   "language": "python",
   "name": "python3"
  },
  "language_info": {
   "codemirror_mode": {
    "name": "ipython",
    "version": 3
   },
   "file_extension": ".py",
   "mimetype": "text/x-python",
   "name": "python",
   "nbconvert_exporter": "python",
   "pygments_lexer": "ipython3",
   "version": "3.11.4"
  }
 },
 "nbformat": 4,
 "nbformat_minor": 5
}
